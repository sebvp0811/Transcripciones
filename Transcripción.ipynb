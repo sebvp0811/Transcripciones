{
  "nbformat": 4,
  "nbformat_minor": 0,
  "metadata": {
    "colab": {
      "provenance": []
    },
    "kernelspec": {
      "name": "python3",
      "display_name": "Python 3"
    },
    "language_info": {
      "name": "python"
    }
  },
  "cells": [
    {
      "cell_type": "markdown",
      "source": [
        "DESCARGAR MODULOS"
      ],
      "metadata": {
        "id": "0x8_HBGU5yG4"
      }
    },
    {
      "cell_type": "code",
      "execution_count": null,
      "metadata": {
        "id": "gfaWTgFO4y2x"
      },
      "outputs": [],
      "source": [
        "pip install git+https://github.com/openai/whisper.git"
      ]
    },
    {
      "cell_type": "code",
      "source": [
        "!sudo apt update && sudo apt install ffmpeg"
      ],
      "metadata": {
        "id": "VNNF79GR5VYt"
      },
      "execution_count": null,
      "outputs": []
    },
    {
      "cell_type": "markdown",
      "source": [
        "CODIGO PARA LEER CODIGO Y ARMAR ARCHIVO SRT"
      ],
      "metadata": {
        "id": "Zn6F-Nau52-c"
      }
    },
    {
      "cell_type": "code",
      "source": [
        "import whisper\n",
        "\n",
        "model = whisper.load_model(\"turbo\")\n",
        "\n",
        "#AGREGAR PATH EN ()\n",
        "result = model.transcribe(\"/content/bolsadehuesos_00_holmberg_128kb.mp3\", language=\"es\")\n",
        "\n",
        "# Crear archivo SRT\n",
        "with open(\"Transcripción.srt\", \"w\", encoding=\"utf-8\") as srt_file:\n",
        "    for i, segment in enumerate(result['segments']):\n",
        "        # Número de segmento\n",
        "        srt_file.write(f\"{i + 1}\\n\")\n",
        "\n",
        "        # Formatear tiempo en estilo SRT (hh:mm:ss,msmsms)\n",
        "        start_time = segment['start']\n",
        "        end_time = segment['end']\n",
        "        start_time_srt = f\"{int(start_time // 3600):02}:{int((start_time % 3600) // 60):02}:{int(start_time % 60):02},{int((start_time % 1) * 1000):03}\"\n",
        "        end_time_srt = f\"{int(end_time // 3600):02}:{int((end_time % 3600) // 60):02}:{int(end_time % 60):02},{int((end_time % 1) * 1000):03}\"\n",
        "\n",
        "        srt_file.write(f\"{start_time_srt} --> {end_time_srt}\\n\")\n",
        "\n",
        "        # Texto del segmento\n",
        "        srt_file.write(f\"{segment['text']}\\n\\n\")\n",
        "\n",
        "#print(result[\"text\"])"
      ],
      "metadata": {
        "id": "k3CEzn1d5hVd"
      },
      "execution_count": null,
      "outputs": []
    },
    {
      "cell_type": "markdown",
      "source": [
        "CODIGO PARA LEER CODIGO Y ARMAR ARCHIVO SRT (INCLUYE BARRA DE CARGA)"
      ],
      "metadata": {
        "id": "PlE0_Hnj0Ylc"
      }
    },
    {
      "cell_type": "code",
      "source": [
        "import whisper\n",
        "from tqdm import tqdm\n",
        "\n",
        "# Cargar el modelo\n",
        "model = whisper.load_model(\"base\")  # Puedes cambiar a 'tiny', 'small', etc. para mayor velocidad\n",
        "\n",
        "# Transcribir el archivo de audio\n",
        "audio_path = \"/content/bolsadehuesos_00_holmberg_128kb.mp3\"\n",
        "result = model.transcribe(audio_path, verbose=False)\n",
        "\n",
        "# Obtener los segmentos y configurar la barra de progreso\n",
        "segments = result[\"segments\"]\n",
        "total_segments = len(segments)\n",
        "\n",
        "# Crear archivo SRT con barra de progreso\n",
        "with open(\"output.srt\", \"w\", encoding=\"utf-8\") as srt_file:\n",
        "    for i, segment in enumerate(tqdm(segments, desc=\"Transcribiendo\", unit=\"segmento\")):\n",
        "        # Número de segmento\n",
        "        srt_file.write(f\"{i + 1}\\n\")\n",
        "\n",
        "        # Formatear tiempo en estilo SRT (hh:mm:ss,msmsms)\n",
        "        start_time = segment['start']\n",
        "        end_time = segment['end']\n",
        "        start_time_srt = f\"{int(start_time // 3600):02}:{int((start_time % 3600) // 60):02}:{int(start_time % 60):02},{int((start_time % 1) * 1000):03}\"\n",
        "        end_time_srt = f\"{int(end_time // 3600):02}:{int((end_time % 3600) // 60):02}:{int(end_time % 60):02},{int((end_time % 1) * 1000):03}\"\n",
        "\n",
        "        srt_file.write(f\"{start_time_srt} --> {end_time_srt}\\n\")\n",
        "\n",
        "        # Texto del segmento\n",
        "        srt_file.write(f\"{segment['text']}\\n\\n\")\n"
      ],
      "metadata": {
        "id": "ZSwArQnU0SUf"
      },
      "execution_count": null,
      "outputs": []
    }
  ]
}